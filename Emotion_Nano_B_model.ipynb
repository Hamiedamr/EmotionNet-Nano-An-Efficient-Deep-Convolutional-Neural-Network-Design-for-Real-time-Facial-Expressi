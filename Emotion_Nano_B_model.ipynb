{
  "nbformat": 4,
  "nbformat_minor": 0,
  "metadata": {
    "colab": {
      "name": "Emotion_Nano_B_model.ipynb",
      "provenance": [],
      "collapsed_sections": [],
      "include_colab_link": true
    },
    "kernelspec": {
      "name": "python3",
      "display_name": "Python 3"
    },
    "accelerator": "GPU"
  },
  "cells": [
    {
      "cell_type": "markdown",
      "metadata": {
        "id": "view-in-github",
        "colab_type": "text"
      },
      "source": [
        "<a href=\"https://colab.research.google.com/github/Hamiedamr/EmotionNet-Nano-An-Efficient-Deep-Convolutional-Neural-Network-Design-for-Real-time-Facial-Expressi/blob/main/Emotion_Nano_B_model.ipynb\" target=\"_parent\"><img src=\"https://colab.research.google.com/assets/colab-badge.svg\" alt=\"Open In Colab\"/></a>"
      ]
    },
    {
      "cell_type": "markdown",
      "metadata": {
        "id": "jM-wcGnOjyJa"
      },
      "source": [
        "**This notebook is an implementaion for <a href=\"https://arxiv.org/pdf/2006.15759.pdf\">EmotionNet Nano</a> paper using tf2.3 and keras functional api**\n",
        "\n",
        "**The model's main approach to enhance \"Facial Expression Recognition\" task on a scale of edge devices**"
      ]
    },
    {
      "cell_type": "code",
      "metadata": {
        "id": "LWt32Vw3Qj9h"
      },
      "source": [
        "import tensorflow as tf\n",
        "from tensorflow.keras import layers , regularizers , Model\n",
        "import matplotlib.pyplot as plt\n",
        "from google.colab.patches import cv2_imshow\n"
      ],
      "execution_count": null,
      "outputs": []
    },
    {
      "cell_type": "markdown",
      "metadata": {
        "id": "97Qn896mhaYy"
      },
      "source": [
        "# **Model Creation**"
      ]
    },
    {
      "cell_type": "markdown",
      "metadata": {
        "id": "pr-lWzEihgbm"
      },
      "source": [
        "## Architecture"
      ]
    },
    {
      "cell_type": "markdown",
      "metadata": {
        "id": "-vvSWUlNkrgi"
      },
      "source": [
        "<img src=\"https://d3i71xaburhd42.cloudfront.net/dd8319a6a86b7e21637ae33545bb9c068ca63b32/5-Figure2-1.png\">"
      ]
    },
    {
      "cell_type": "code",
      "metadata": {
        "id": "AzOn8eQ_hH5m"
      },
      "source": [
        "def emotion_nano_model(input_shape=(48,48,1) , num_classes=7 ):\r\n",
        "  ##\r\n",
        "  filters1=[11,9,11,8,11,7,11,27]\r\n",
        "  filters2=[27,19,27,26,27,36]\r\n",
        "  filters3=[64,39,64,24,64]\r\n",
        "  names0=['1','2','3','4','5','6','7','8']\r\n",
        "  names1=['9','10','11','12','13','14']\r\n",
        "  names2=['15','16','17','18','19','20']\r\n",
        "  ##\r\n",
        "\r\n",
        "  #fundmental block\r\n",
        "  inputs = tf.keras.Input(shape=input_shape)\r\n",
        "  layer1 = layers.Conv2D(filters1[0], 3 , activation='relu', padding='same',name=names0[0])(inputs)\r\n",
        "  layer2 = layers.Conv2D(filters1[1], 3 , activation='relu', padding='same',name=names0[1])(layer1)\r\n",
        "  layer3 = layers.Conv2D(filters1[2], 3 , activation='relu', padding='same',name=names0[2])(layer2)\r\n",
        "  layer4 = layers.Conv2D(filters1[3], 3 , activation='relu', padding='same',name=names0[3])(layer1+layer3)\r\n",
        "  layer5 = layers.Conv2D(filters1[4], 3 , activation='relu', padding='same',name=names0[4])(layer4)\r\n",
        "  layer6 = layers.Conv2D(filters1[5], 3 , activation='relu', padding='same',name=names0[5])(layer1+layer3+layer5)\r\n",
        "  layer7 = layers.Conv2D(filters1[6], 3 , activation='relu', padding='same',name=names0[6])(layer6)\r\n",
        "  layer8 = layers.Conv2D(filters1[7], 3 , activation='relu', padding='same', strides=(2,2),name=names0[7])(layer1+layer5+layer7)\r\n",
        "\r\n",
        "  #1x1 conv layer 1\r\n",
        "  identity1 = layers.Conv2D(27,1,strides=(2,2), name='identity1')(layer1+layer3+layer5)\r\n",
        "\r\n",
        "\r\n",
        "  #cNN Block 1\r\n",
        "  layer1_c1 = layers.Conv2D(filters2[0], 3 , activation='relu', padding='same',name=names1[0])(layer8)\r\n",
        "  layer2_c1 = layers.Conv2D(filters2[1], 3 , activation='relu', padding='same',name=names1[1])(layer1_c1+identity1)\r\n",
        "  layer3_c1 = layers.Conv2D(filters2[2], 3 , activation='relu', padding='same',name=names1[2])(layer2_c1)\r\n",
        "  layer4_c1 = layers.Conv2D(filters2[3], 3 , activation='relu', padding='same',name=names1[3])(layer3_c1+layer1_c1)\r\n",
        "  layer5_c1 = layers.Conv2D(filters2[4], 3 , activation='relu', padding='same',name=names1[4])(layer4_c1)\r\n",
        "  layer6_c1 = layers.Conv2D(filters2[5], 3 , activation='relu', padding='same',strides=(2,2),name=names1[5])(layer3_c1+layer5_c1+layer1_c1+identity1)\r\n",
        "\r\n",
        "\r\n",
        "  #1x1 conv layer 2\r\n",
        "  identity2 = layers.Conv2D(64,1,strides=(2,2), name='identity2')(layer3_c1 +layer5_c1+identity1 +layer8)\r\n",
        "\r\n",
        "\r\n",
        "  #CNN Block 2\r\n",
        "  layer1_c2 = layers.Conv2D(filters3[0], 3 , activation='relu', padding='same',name=names2[0])(layer6_c1)\r\n",
        "  layer2_c2 = layers.Conv2D(filters3[1], 3 , activation='relu', padding='same',name=names2[1])(layer1_c2+identity2)\r\n",
        "  layer3_c2 = layers.Conv2D(filters3[2], 3 , activation='relu', padding='same',name=names2[2])(layer2_c2)\r\n",
        "  layer4_c2 = layers.Conv2D(filters3[3], 3 , activation='relu', padding='same',name=names2[3])(layer3_c2+layer1_c2+identity2)\r\n",
        "  layer5_c2 = layers.Conv2D(filters3[4], 3 , activation='relu', padding='same',name=names2[4])(layer4_c2)\r\n",
        "  layer6_c2 = layers.AveragePooling2D((12,12),name=names2[5])(layer3_c2+layer5_c2+layer1_c2+identity2)\r\n",
        "\r\n",
        "\r\n",
        "  #dense \r\n",
        "  dense = layers.Dense(num_classes)(layer6_c2)\r\n",
        "  output= layers.Activation('softmax', name='softmax')(dense)\r\n",
        "  model = Model(inputs= inputs , outputs= output)\r\n",
        "\r\n",
        "  return model  "
      ],
      "execution_count": null,
      "outputs": []
    },
    {
      "cell_type": "markdown",
      "metadata": {
        "id": "O8DyDuMJhjLq"
      },
      "source": [
        "## Compiling"
      ]
    },
    {
      "cell_type": "code",
      "metadata": {
        "id": "k3ovaGa3wkh1",
        "colab": {
          "base_uri": "https://localhost:8080/"
        },
        "outputId": "c0c23ff8-4122-4e31-b54c-e46903f5609d"
      },
      "source": [
        "mymodel= emotion_nano_model()\r\n",
        "mymodel.compile(\r\n",
        "    optimizer= tf.keras.optimizers.Adam(lr=1e-3) ,\r\n",
        "    loss= tf.keras.losses.SparseCategoricalCrossentropy(),\r\n",
        "    metrics=['accuracy']\r\n",
        ")\r\n",
        "mymodel.summary()"
      ],
      "execution_count": null,
      "outputs": [
        {
          "output_type": "stream",
          "text": [
            "Model: \"model\"\n",
            "__________________________________________________________________________________________________\n",
            "Layer (type)                    Output Shape         Param #     Connected to                     \n",
            "==================================================================================================\n",
            "input_1 (InputLayer)            [(None, 48, 48, 1)]  0                                            \n",
            "__________________________________________________________________________________________________\n",
            "1 (Conv2D)                      (None, 48, 48, 11)   110         input_1[0][0]                    \n",
            "__________________________________________________________________________________________________\n",
            "2 (Conv2D)                      (None, 48, 48, 9)    900         1[0][0]                          \n",
            "__________________________________________________________________________________________________\n",
            "3 (Conv2D)                      (None, 48, 48, 11)   902         2[0][0]                          \n",
            "__________________________________________________________________________________________________\n",
            "tf.__operators__.add (TFOpLambd (None, 48, 48, 11)   0           1[0][0]                          \n",
            "                                                                 3[0][0]                          \n",
            "__________________________________________________________________________________________________\n",
            "4 (Conv2D)                      (None, 48, 48, 8)    800         tf.__operators__.add[0][0]       \n",
            "__________________________________________________________________________________________________\n",
            "5 (Conv2D)                      (None, 48, 48, 11)   803         4[0][0]                          \n",
            "__________________________________________________________________________________________________\n",
            "tf.__operators__.add_1 (TFOpLam (None, 48, 48, 11)   0           1[0][0]                          \n",
            "                                                                 3[0][0]                          \n",
            "__________________________________________________________________________________________________\n",
            "tf.__operators__.add_2 (TFOpLam (None, 48, 48, 11)   0           tf.__operators__.add_1[0][0]     \n",
            "                                                                 5[0][0]                          \n",
            "__________________________________________________________________________________________________\n",
            "6 (Conv2D)                      (None, 48, 48, 7)    700         tf.__operators__.add_2[0][0]     \n",
            "__________________________________________________________________________________________________\n",
            "tf.__operators__.add_3 (TFOpLam (None, 48, 48, 11)   0           1[0][0]                          \n",
            "                                                                 5[0][0]                          \n",
            "__________________________________________________________________________________________________\n",
            "7 (Conv2D)                      (None, 48, 48, 11)   704         6[0][0]                          \n",
            "__________________________________________________________________________________________________\n",
            "tf.__operators__.add_4 (TFOpLam (None, 48, 48, 11)   0           tf.__operators__.add_3[0][0]     \n",
            "                                                                 7[0][0]                          \n",
            "__________________________________________________________________________________________________\n",
            "tf.__operators__.add_5 (TFOpLam (None, 48, 48, 11)   0           1[0][0]                          \n",
            "                                                                 3[0][0]                          \n",
            "__________________________________________________________________________________________________\n",
            "8 (Conv2D)                      (None, 24, 24, 27)   2700        tf.__operators__.add_4[0][0]     \n",
            "__________________________________________________________________________________________________\n",
            "tf.__operators__.add_6 (TFOpLam (None, 48, 48, 11)   0           tf.__operators__.add_5[0][0]     \n",
            "                                                                 5[0][0]                          \n",
            "__________________________________________________________________________________________________\n",
            "9 (Conv2D)                      (None, 24, 24, 27)   6588        8[0][0]                          \n",
            "__________________________________________________________________________________________________\n",
            "identity1 (Conv2D)              (None, 24, 24, 27)   324         tf.__operators__.add_6[0][0]     \n",
            "__________________________________________________________________________________________________\n",
            "tf.__operators__.add_7 (TFOpLam (None, 24, 24, 27)   0           9[0][0]                          \n",
            "                                                                 identity1[0][0]                  \n",
            "__________________________________________________________________________________________________\n",
            "10 (Conv2D)                     (None, 24, 24, 19)   4636        tf.__operators__.add_7[0][0]     \n",
            "__________________________________________________________________________________________________\n",
            "11 (Conv2D)                     (None, 24, 24, 27)   4644        10[0][0]                         \n",
            "__________________________________________________________________________________________________\n",
            "tf.__operators__.add_8 (TFOpLam (None, 24, 24, 27)   0           11[0][0]                         \n",
            "                                                                 9[0][0]                          \n",
            "__________________________________________________________________________________________________\n",
            "12 (Conv2D)                     (None, 24, 24, 26)   6344        tf.__operators__.add_8[0][0]     \n",
            "__________________________________________________________________________________________________\n",
            "13 (Conv2D)                     (None, 24, 24, 27)   6345        12[0][0]                         \n",
            "__________________________________________________________________________________________________\n",
            "tf.__operators__.add_9 (TFOpLam (None, 24, 24, 27)   0           11[0][0]                         \n",
            "                                                                 13[0][0]                         \n",
            "__________________________________________________________________________________________________\n",
            "tf.__operators__.add_10 (TFOpLa (None, 24, 24, 27)   0           tf.__operators__.add_9[0][0]     \n",
            "                                                                 9[0][0]                          \n",
            "__________________________________________________________________________________________________\n",
            "tf.__operators__.add_12 (TFOpLa (None, 24, 24, 27)   0           11[0][0]                         \n",
            "                                                                 13[0][0]                         \n",
            "__________________________________________________________________________________________________\n",
            "tf.__operators__.add_11 (TFOpLa (None, 24, 24, 27)   0           tf.__operators__.add_10[0][0]    \n",
            "                                                                 identity1[0][0]                  \n",
            "__________________________________________________________________________________________________\n",
            "tf.__operators__.add_13 (TFOpLa (None, 24, 24, 27)   0           tf.__operators__.add_12[0][0]    \n",
            "                                                                 identity1[0][0]                  \n",
            "__________________________________________________________________________________________________\n",
            "14 (Conv2D)                     (None, 12, 12, 36)   8784        tf.__operators__.add_11[0][0]    \n",
            "__________________________________________________________________________________________________\n",
            "tf.__operators__.add_14 (TFOpLa (None, 24, 24, 27)   0           tf.__operators__.add_13[0][0]    \n",
            "                                                                 8[0][0]                          \n",
            "__________________________________________________________________________________________________\n",
            "15 (Conv2D)                     (None, 12, 12, 64)   20800       14[0][0]                         \n",
            "__________________________________________________________________________________________________\n",
            "identity2 (Conv2D)              (None, 12, 12, 64)   1792        tf.__operators__.add_14[0][0]    \n",
            "__________________________________________________________________________________________________\n",
            "tf.__operators__.add_15 (TFOpLa (None, 12, 12, 64)   0           15[0][0]                         \n",
            "                                                                 identity2[0][0]                  \n",
            "__________________________________________________________________________________________________\n",
            "16 (Conv2D)                     (None, 12, 12, 39)   22503       tf.__operators__.add_15[0][0]    \n",
            "__________________________________________________________________________________________________\n",
            "17 (Conv2D)                     (None, 12, 12, 64)   22528       16[0][0]                         \n",
            "__________________________________________________________________________________________________\n",
            "tf.__operators__.add_16 (TFOpLa (None, 12, 12, 64)   0           17[0][0]                         \n",
            "                                                                 15[0][0]                         \n",
            "__________________________________________________________________________________________________\n",
            "tf.__operators__.add_17 (TFOpLa (None, 12, 12, 64)   0           tf.__operators__.add_16[0][0]    \n",
            "                                                                 identity2[0][0]                  \n",
            "__________________________________________________________________________________________________\n",
            "18 (Conv2D)                     (None, 12, 12, 24)   13848       tf.__operators__.add_17[0][0]    \n",
            "__________________________________________________________________________________________________\n",
            "19 (Conv2D)                     (None, 12, 12, 64)   13888       18[0][0]                         \n",
            "__________________________________________________________________________________________________\n",
            "tf.__operators__.add_18 (TFOpLa (None, 12, 12, 64)   0           17[0][0]                         \n",
            "                                                                 19[0][0]                         \n",
            "__________________________________________________________________________________________________\n",
            "tf.__operators__.add_19 (TFOpLa (None, 12, 12, 64)   0           tf.__operators__.add_18[0][0]    \n",
            "                                                                 15[0][0]                         \n",
            "__________________________________________________________________________________________________\n",
            "tf.__operators__.add_20 (TFOpLa (None, 12, 12, 64)   0           tf.__operators__.add_19[0][0]    \n",
            "                                                                 identity2[0][0]                  \n",
            "__________________________________________________________________________________________________\n",
            "20 (AveragePooling2D)           (None, 1, 1, 64)     0           tf.__operators__.add_20[0][0]    \n",
            "__________________________________________________________________________________________________\n",
            "dense (Dense)                   (None, 1, 1, 7)      455         20[0][0]                         \n",
            "__________________________________________________________________________________________________\n",
            "softmax (Activation)            (None, 1, 1, 7)      0           dense[0][0]                      \n",
            "==================================================================================================\n",
            "Total params: 141,098\n",
            "Trainable params: 141,098\n",
            "Non-trainable params: 0\n",
            "__________________________________________________________________________________________________\n"
          ],
          "name": "stdout"
        }
      ]
    },
    {
      "cell_type": "markdown",
      "metadata": {
        "id": "iD_PIsW4hl6w"
      },
      "source": [
        "# **Data Loading**"
      ]
    },
    {
      "cell_type": "markdown",
      "metadata": {
        "id": "gLPkOGWhhq7O"
      },
      "source": [
        "Here we preformed data augmentaion which was mentioned in the paper"
      ]
    },
    {
      "cell_type": "code",
      "metadata": {
        "colab": {
          "base_uri": "https://localhost:8080/"
        },
        "id": "8yAeplr0xmb1",
        "outputId": "ced7e39f-e916-42a7-bd9c-3b69c450a7eb"
      },
      "source": [
        "train_datagen = tf.keras.preprocessing.image.ImageDataGenerator(\r\n",
        "        rescale=1./255,\r\n",
        "        horizontal_flip=True,\r\n",
        "        zoom_range=0.2,\r\n",
        "        rotation_range=180,\r\n",
        "        width_shift_range=0.2,\r\n",
        "        height_shift_range=0.2,\r\n",
        "        fill_mode=\"nearest\",\r\n",
        "        validation_split=0.1)\r\n",
        "\r\n",
        "train_generator = train_datagen.flow_from_directory(\r\n",
        "        \"/content/drive/MyDrive/DeepLearning_data/Ckplus\",\r\n",
        "        target_size=(48, 48),\r\n",
        "        batch_size=256,\r\n",
        "        class_mode='sparse',\r\n",
        "        subset='training',\r\n",
        "        color_mode='grayscale')\r\n",
        "\r\n",
        "validation_generator = train_datagen.flow_from_directory(\r\n",
        "        \"/content/drive/MyDrive/DeepLearning_data/Ckplus\",\r\n",
        "        target_size=(48, 48),\r\n",
        "        batch_size=256,\r\n",
        "        class_mode='sparse',\r\n",
        "        subset='validation',\r\n",
        "        color_mode='grayscale')\r\n",
        "\r\n"
      ],
      "execution_count": null,
      "outputs": [
        {
          "output_type": "stream",
          "text": [
            "Found 947 images belonging to 7 classes.\n",
            "Found 101 images belonging to 7 classes.\n"
          ],
          "name": "stdout"
        }
      ]
    },
    {
      "cell_type": "markdown",
      "metadata": {
        "id": "uGB24wfJhx3L"
      },
      "source": [
        "## Learning rate scheduler"
      ]
    },
    {
      "cell_type": "code",
      "metadata": {
        "id": "2tT4ZBRE8BgI"
      },
      "source": [
        "def scheduler(epoch, lr):\r\n",
        "  lr0=1e-3\r\n",
        "  if epoch >=81 and epoch <121:\r\n",
        "    return lr0*1e-1\r\n",
        "  elif epoch >=121 and epoch <161:\r\n",
        "    return lr0*1e-2\r\n",
        "  elif epoch >=161 and epoch <181:\r\n",
        "    return lr0*1e-3\r\n",
        "  elif epoch >=181:\r\n",
        "    return lr0*0.5*e-3\r\n",
        "  else:\r\n",
        "    return lr\r\n",
        "  \r\n",
        "callback = tf.keras.callbacks.LearningRateScheduler(scheduler)"
      ],
      "execution_count": null,
      "outputs": []
    },
    {
      "cell_type": "markdown",
      "metadata": {
        "id": "yaw0prICh5qk"
      },
      "source": [
        "## **Training**"
      ]
    },
    {
      "cell_type": "code",
      "metadata": {
        "id": "owhx2W8ny-_C"
      },
      "source": [
        "mymodel.fit(train_generator,validation_data=validation_generator,epochs=200,batch_size=100,\r\n",
        "            callbacks=[callback],verbose=2)"
      ],
      "execution_count": null,
      "outputs": []
    }
  ]
}